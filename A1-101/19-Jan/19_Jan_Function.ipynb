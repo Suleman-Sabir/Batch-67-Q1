{
  "cells": [
    {
      "cell_type": "markdown",
      "metadata": {
        "colab_type": "text",
        "id": "view-in-github"
      },
      "source": [
        "<a href=\"https://colab.research.google.com/github/JahanzaibTayyab/Batch-67/blob/main/19_Jan_Function.ipynb\" target=\"_parent\"><img src=\"https://colab.research.google.com/assets/colab-badge.svg\" alt=\"Open In Colab\"/></a>"
      ]
    },
    {
      "cell_type": "markdown",
      "metadata": {
        "id": "LuM-_9IR3TXb"
      },
      "source": [
        "\n",
        "\n",
        "```\n",
        "# This is formatted as code\n",
        "\n",
        "1.   Installtion\n",
        "2.   Variables/ data types/ type casting / single quote , double , triple/doc string / string methods\n",
        "3. list / methods\n",
        "4. Loops\n",
        "5. if eles if\n",
        "6. Dist.\n",
        "7. Input/While Loop\n",
        "8. Functions\n",
        "\n",
        "\n",
        "```\n",
        "\n"
      ]
    },
    {
      "cell_type": "code",
      "execution_count": null,
      "metadata": {
        "id": "S5S2AXZB3Sqy"
      },
      "outputs": [],
      "source": [
        "#function start\n",
        "\n",
        "\n",
        "\n",
        "\n",
        "\n",
        "\n",
        "\n",
        "\n",
        "\n",
        "\n",
        "\n",
        "\n",
        "\n",
        "#return\n",
        "#function end"
      ]
    },
    {
      "cell_type": "code",
      "execution_count": null,
      "metadata": {
        "id": "6SuDPONW957w"
      },
      "outputs": [],
      "source": [
        "# function steps"
      ]
    },
    {
      "cell_type": "markdown",
      "metadata": {
        "id": "Uf3LoDlI-Eqm"
      },
      "source": [
        "\n",
        "\n",
        "1.   Function def\n",
        "2.   Function name\n",
        "3. Funtion => input/non-input\n",
        "4. Function body\n",
        "5, function body => bussiness logic for function\n",
        "6. end of function return value / None\n",
        "\n",
        "#function use\n",
        "function ko call krty ha => function name(input/empty input)"
      ]
    },
    {
      "cell_type": "code",
      "execution_count": null,
      "metadata": {
        "colab": {
          "base_uri": "https://localhost:8080/"
        },
        "id": "lsFe8l-b-JWH",
        "outputId": "aaf7f54c-b48b-4e05-eff1-cd3371c756b3"
      },
      "outputs": [
        {
          "name": "stdout",
          "output_type": "stream",
          "text": [
            "Hello User\n"
          ]
        }
      ],
      "source": [
        "# \"\"\"String\"\"\" (doc string)\n",
        "def greet_user():\n",
        "  \"\"\"This is function for user greet\"\"\"\n",
        "  print(\"Hello User\")\n",
        "\n",
        "greet_user()"
      ]
    },
    {
      "cell_type": "code",
      "execution_count": 1,
      "metadata": {
        "colab": {
          "base_uri": "https://localhost:8080/"
        },
        "id": "K2YVNsOjBK_0",
        "outputId": "6c16de69-71fe-4df2-dfa8-0e9b545302ae"
      },
      "outputs": [
        {
          "name": "stdout",
          "output_type": "stream",
          "text": [
            "Hello User Suleman\n"
          ]
        }
      ],
      "source": [
        "def greet_user(name):\n",
        "  \"\"\"This is function for user greet\"\"\"\n",
        "  print(\"Hello User\",name)\n",
        "\n",
        "greet_user('Suleman')"
      ]
    },
    {
      "cell_type": "code",
      "execution_count": null,
      "metadata": {
        "colab": {
          "base_uri": "https://localhost:8080/"
        },
        "id": "dr45ZDJ-CVKa",
        "outputId": "34236d50-37a5-4feb-c3d9-db18f2d212c5"
      },
      "outputs": [
        {
          "name": "stdout",
          "output_type": "stream",
          "text": [
            "\n",
            "I have a Dog.\n",
            "My Cat's name is Billo.\n",
            "\n",
            "I have a Dog.\n"
          ]
        }
      ],
      "source": [
        "animal_type='Dog'\n",
        "def describe_pet(animal_type1, pet_name):\n",
        "  \"\"\"Display information about a pet.\"\"\"\n",
        "  print(f\"My {animal_type1}'s name is {pet_name.title()}.\")\n",
        "\n",
        "\n",
        "print(f\"\\nI have a {animal_type}.\")\n",
        "describe_pet('Cat','Billo')\n",
        "print(f\"\\nI have a {animal_type}.\")"
      ]
    },
    {
      "cell_type": "code",
      "execution_count": null,
      "metadata": {
        "colab": {
          "base_uri": "https://localhost:8080/"
        },
        "id": "iSZxL0Z0FYJ5",
        "outputId": "fc154b20-c349-4510-a301-d8609dd12369"
      },
      "outputs": [
        {
          "name": "stdout",
          "output_type": "stream",
          "text": [
            "My Cat's name is Billo.\n",
            "My Cat's name is Bhalo.\n",
            "My Cat's name is Billo.\n",
            "My Cat's name is Billo.\n",
            "My Cat's name is Billo.\n"
          ]
        }
      ],
      "source": [
        "describe_pet('Cat','Billo')\n",
        "describe_pet('Cat','Bhalo')\n",
        "\n",
        "describe_pet('Cat','Billo')\n",
        "describe_pet('Cat','Billo')\n",
        "describe_pet('Cat','Billo')"
      ]
    },
    {
      "cell_type": "code",
      "execution_count": null,
      "metadata": {
        "id": "9okHa0R-GTwN"
      },
      "outputs": [],
      "source": [
        "def describe_pet(animal_type, pet_name):\n",
        "  \"\"\"Display information about a pet.\"\"\"\n",
        "  print(f\"\\nI have a {animal_type}.\")\n",
        "  print(f\"My {animal_type}'s name is {pet_name.title()}.\")"
      ]
    },
    {
      "cell_type": "code",
      "execution_count": null,
      "metadata": {
        "colab": {
          "base_uri": "https://localhost:8080/"
        },
        "id": "vxMRIWVDGZpG",
        "outputId": "8f4a6def-ff0c-4cf0-8eae-c4989db70d68"
      },
      "outputs": [
        {
          "name": "stdout",
          "output_type": "stream",
          "text": [
            "\n",
            "I have a Dog.\n",
            "My Dog's name is Tommy.\n"
          ]
        }
      ],
      "source": [
        "#Keyword Arguments\n",
        "describe_pet(animal_type='Dog', pet_name='Tommy')"
      ]
    },
    {
      "cell_type": "code",
      "execution_count": null,
      "metadata": {
        "colab": {
          "base_uri": "https://localhost:8080/"
        },
        "id": "BCl5jcnXGwYZ",
        "outputId": "3283c94c-ca80-4995-a5b1-93f45011ca44"
      },
      "outputs": [
        {
          "name": "stdout",
          "output_type": "stream",
          "text": [
            "\n",
            "I have a Dog.\n",
            "My Dog's name is Tommy.\n"
          ]
        }
      ],
      "source": [
        "describe_pet(pet_name='Tommy',animal_type='Dog')"
      ]
    },
    {
      "cell_type": "code",
      "execution_count": null,
      "metadata": {
        "id": "2VOs2iIRHPGF"
      },
      "outputs": [],
      "source": [
        "#Default Values\n",
        "def describe_pet(pet_name,animal_type='dog'):\n",
        "  \"\"\"Display information about a pet.\"\"\"\n",
        "  print(f\"\\nI have a {animal_type}.\")\n",
        "  print(f\"My {animal_type}'s name is {pet_name.title()}.\")"
      ]
    },
    {
      "cell_type": "code",
      "execution_count": null,
      "metadata": {
        "colab": {
          "base_uri": "https://localhost:8080/"
        },
        "id": "3C2DV5TiHo8a",
        "outputId": "624bee55-9e6f-4ad9-e2f1-ba760a3dc96f"
      },
      "outputs": [
        {
          "name": "stdout",
          "output_type": "stream",
          "text": [
            "\n",
            "I have a dog.\n",
            "My dog's name is Tommy.\n"
          ]
        }
      ],
      "source": [
        "describe_pet('Tommy')"
      ]
    }
  ],
  "metadata": {
    "colab": {
      "authorship_tag": "ABX9TyPTgDYvdtvCGRFT8abiBWcn",
      "include_colab_link": true,
      "provenance": []
    },
    "kernelspec": {
      "display_name": "Python 3",
      "name": "python3"
    },
    "language_info": {
      "codemirror_mode": {
        "name": "ipython",
        "version": 3
      },
      "file_extension": ".py",
      "mimetype": "text/x-python",
      "name": "python",
      "nbconvert_exporter": "python",
      "pygments_lexer": "ipython3",
      "version": "3.13.1"
    }
  },
  "nbformat": 4,
  "nbformat_minor": 0
}
